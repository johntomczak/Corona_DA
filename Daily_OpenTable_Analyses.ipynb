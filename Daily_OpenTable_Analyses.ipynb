{
  "nbformat": 4,
  "nbformat_minor": 0,
  "metadata": {
    "colab": {
      "name": "Daily OpenTable Analyses",
      "provenance": [],
      "collapsed_sections": [],
      "toc_visible": true,
      "authorship_tag": "ABX9TyOIMdU7fMULTM4vhpJLiS2s",
      "include_colab_link": true
    },
    "kernelspec": {
      "name": "python3",
      "display_name": "Python 3"
    }
  },
  "cells": [
    {
      "cell_type": "markdown",
      "metadata": {
        "id": "view-in-github",
        "colab_type": "text"
      },
      "source": [
        "<a href=\"https://colab.research.google.com/github/johntomczak/Corona_DA/blob/master/Daily_OpenTable_Analyses.ipynb\" target=\"_parent\"><img src=\"https://colab.research.google.com/assets/colab-badge.svg\" alt=\"Open In Colab\"/></a>"
      ]
    },
    {
      "cell_type": "markdown",
      "metadata": {
        "id": "tc6mO6FUlwmG",
        "colab_type": "text"
      },
      "source": [
        "# Intro"
      ]
    },
    {
      "cell_type": "markdown",
      "metadata": {
        "id": "F6wVoE4Ckvhb",
        "colab_type": "text"
      },
      "source": [
        "Hello everyone. Thanks for checking out my work. I will have plenty more to come too.\n",
        "\n",
        "Please feel free to reach out with tips, criticism, or ways I can help you at johnjtomczak@icloud.com"
      ]
    },
    {
      "cell_type": "markdown",
      "metadata": {
        "id": "3Q-WRV5OmHRQ",
        "colab_type": "text"
      },
      "source": [
        "I found this data set a few days ago a few times. It was all over Hacker News and Twitter and maybe an email newsletter or two. I am using it as a muse to learn some Python data science and modeling tools. Enjoy."
      ]
    },
    {
      "cell_type": "markdown",
      "metadata": {
        "id": "zlcofWIOl_lS",
        "colab_type": "text"
      },
      "source": [
        "# Importing and Formatting"
      ]
    },
    {
      "cell_type": "code",
      "metadata": {
        "id": "MoLaAKPcwS85",
        "colab_type": "code",
        "colab": {}
      },
      "source": [
        "# the 'capture' magic suppresses the pip output below\n",
        "%%capture\n",
        "!pip install xlrd\n",
        "!pip install psycopg2"
      ],
      "execution_count": 0,
      "outputs": []
    },
    {
      "cell_type": "code",
      "metadata": {
        "id": "njmn2ElbxlTZ",
        "colab_type": "code",
        "colab": {}
      },
      "source": [
        "import pandas as pd\n",
        "import numpy as np\n",
        "import seaborn as sns\n",
        "import matplotlib.pyplot as plt\n",
        "import sys\n",
        "import datetime\n",
        "from scipy.stats import norm"
      ],
      "execution_count": 0,
      "outputs": []
    },
    {
      "cell_type": "code",
      "metadata": {
        "id": "OydXeoO2xsJw",
        "colab_type": "code",
        "outputId": "cbd4eed9-f7f0-43cf-e39d-06653d40fa82",
        "colab": {
          "base_uri": "https://localhost:8080/",
          "height": 51
        }
      },
      "source": [
        "# # post_offset is: \n",
        "# #   0 if the dataset is current, \n",
        "# #   1 if OpenTable hasn't posted yet today\n",
        "# post_offset = 0 \n",
        "\n",
        "# # They keep changing their formats so I download what I can and make some edits in Excel before uploading\n",
        "# latest=datetime.datetime.now() - datetime.timedelta(days=(1+post_offset)) - datetime.timedelta(hours=4)\n",
        "# latest=latest.strftime(\"%m_%d\")\n",
        "# print( latest )\n",
        "\n",
        "latest = '03_18'\n",
        "print( latest )\n",
        "fl = \"https://github.com/johntomczak/Corona_DA/blob/master/opentable_\"+str(latest)+\".xlsx?raw=true\"\n",
        "\n",
        "print( latest )\n",
        "d1 = pd.read_excel(fl)\n",
        "d1 = d1.set_index('Name')"
      ],
      "execution_count": 0,
      "outputs": [
        {
          "output_type": "stream",
          "text": [
            "03_18\n",
            "03_18\n"
          ],
          "name": "stdout"
        }
      ]
    },
    {
      "cell_type": "code",
      "metadata": {
        "id": "GLeingwf2tE8",
        "colab_type": "code",
        "colab": {}
      },
      "source": [
        "# please blame my friend Rem if you go blind on this one - he is the King of One-Lining\n",
        "d1.columns = pd.Series(d1.columns).apply(lambda x: x.strftime('%m_%d') if type(x) != str else x)"
      ],
      "execution_count": 0,
      "outputs": []
    },
    {
      "cell_type": "code",
      "metadata": {
        "id": "4aCv-2FE3Ltk",
        "colab_type": "code",
        "colab": {}
      },
      "source": [
        "# NOLA has to go because of Mardi Gras moving around on the calendar\n",
        "d1 = d1.drop('New Orleans')\n",
        "# just want to stick to N. Am. cities, idk\n",
        "d1 = d1.drop('London')\n",
        "d1 = d1.drop('Hamburg')\n",
        "d1 = d1.drop('Munchen')\n",
        "d1 = d1.drop('Dublin')"
      ],
      "execution_count": 0,
      "outputs": []
    },
    {
      "cell_type": "code",
      "metadata": {
        "id": "Fy96kxhR7DMn",
        "colab_type": "code",
        "outputId": "3e7bc82c-4492-4989-f41d-904ea77ad84a",
        "colab": {
          "base_uri": "https://localhost:8080/",
          "height": 170
        }
      },
      "source": [
        "info = d1.describe()\n",
        "print( info.iloc[:,-3:] )"
      ],
      "execution_count": 0,
      "outputs": [
        {
          "output_type": "stream",
          "text": [
            "           03_16      03_17      03_18\n",
            "count  43.000000  43.000000  43.000000\n",
            "mean   -0.668837  -0.924651  -0.969302\n",
            "std     0.137134   0.109291   0.062503\n",
            "min    -1.000000  -1.000000  -1.000000\n",
            "25%    -0.760000  -1.000000  -1.000000\n",
            "50%    -0.660000  -0.990000  -1.000000\n",
            "75%    -0.580000  -0.880000  -0.970000\n",
            "max    -0.400000  -0.550000  -0.750000\n"
          ],
          "name": "stdout"
        }
      ]
    },
    {
      "cell_type": "markdown",
      "metadata": {
        "id": "bEf_5AwkLI9_",
        "colab_type": "text"
      },
      "source": [
        "# Analyses"
      ]
    },
    {
      "cell_type": "code",
      "metadata": {
        "id": "Heq-Gh9C665X",
        "colab_type": "code",
        "colab": {}
      },
      "source": [
        "dt = datetime.datetime.now() - datetime.timedelta(days=(1+post_offset)) - datetime.timedelta(hours=4)\n",
        "t0s = dt\n",
        "t0 = t0s.strftime('%m_%d')\n",
        "t1s = t0s - datetime.timedelta( days=1 )\n",
        "t1 = t1s.strftime('%m_%d')\n",
        "t2s = t1s - datetime.timedelta(days=1)\n",
        "t2 = t2s.strftime('%m_%d')"
      ],
      "execution_count": 0,
      "outputs": []
    },
    {
      "cell_type": "code",
      "metadata": {
        "id": "Zsw8L4N23LSx",
        "colab_type": "code",
        "outputId": "38cf28e3-e11c-4689-b320-11c2572d75a5",
        "colab": {
          "base_uri": "https://localhost:8080/",
          "height": 476
        }
      },
      "source": [
        "plt.style.use('classic')\n",
        "fri = sns.distplot( d1[t0] )\n",
        "sat = sns.distplot( d1[t1] )\n",
        "sun = sns.distplot( d1[t2] )\n",
        "plt.legend( [str(t0), str(t1), str(t2)] )"
      ],
      "execution_count": 0,
      "outputs": [
        {
          "output_type": "execute_result",
          "data": {
            "text/plain": [
              "<matplotlib.legend.Legend at 0x7f32a94a1b38>"
            ]
          },
          "metadata": {
            "tags": []
          },
          "execution_count": 379
        },
        {
          "output_type": "display_data",
          "data": {
            "image/png": "[encoded data removed]",
            "text/plain": [
              "<Figure size 640x480 with 1 Axes>"
            ]
          },
          "metadata": {
            "tags": []
          }
        }
      ]
    },
    {
      "cell_type": "code",
      "metadata": {
        "id": "bQoxRLEB3OqU",
        "colab_type": "code",
        "outputId": "9ab3d546-3b89-4d9a-8cb3-a93f839d59fa",
        "colab": {
          "base_uri": "https://localhost:8080/",
          "height": 459
        }
      },
      "source": [
        "dist_today = sns.distplot( d1[t0], bins=25, kde=False )"
      ],
      "execution_count": 0,
      "outputs": [
        {
          "output_type": "display_data",
          "data": {
            "image/png": "[encoded data removed]",
            "text/plain": [
              "<Figure size 640x480 with 1 Axes>"
            ]
          },
          "metadata": {
            "tags": []
          }
        }
      ]
    },
    {
      "cell_type": "code",
      "metadata": {
        "id": "UdLQTDbv3U8B",
        "colab_type": "code",
        "outputId": "2ee7e5b7-08a3-4218-a0ad-09c833737f11",
        "colab": {
          "base_uri": "https://localhost:8080/",
          "height": 986
        }
      },
      "source": [
        "print( t0 )\n",
        "print( d1[t0].sort_values() )\n",
        "print( \"shutdown \" + str( sum( d1[t0]<=-0.995) ) )\n",
        "print ( sum( d1[t0]==-1) / d1[t0].describe()['count'] )\n",
        "print( d1[t0].describe() )"
      ],
      "execution_count": 0,
      "outputs": [
        {
          "output_type": "stream",
          "text": [
            "03_18\n",
            "Name\n",
            "Miami Beach              -1.00\n",
            "Toronto                  -1.00\n",
            "Seattle                  -1.00\n",
            "San Francisco            -1.00\n",
            "San Diego                -1.00\n",
            "Raleigh                  -1.00\n",
            "Portland                 -1.00\n",
            "Pittsburgh               -1.00\n",
            "Philadelphia             -1.00\n",
            "New York                 -1.00\n",
            "Minneapolis              -1.00\n",
            "Miami                    -1.00\n",
            "Louisville               -1.00\n",
            "Los Angeles              -1.00\n",
            "Las Vegas                -1.00\n",
            "Indianapolis             -1.00\n",
            "Washington               -1.00\n",
            "Fort Lauderdale          -1.00\n",
            "Chicago                  -1.00\n",
            "Denver                   -1.00\n",
            "Cincinnati               -1.00\n",
            "Dallas                   -1.00\n",
            "Houston                  -1.00\n",
            "Austin                   -1.00\n",
            "Charlotte                -1.00\n",
            "Columbus                 -1.00\n",
            "Baltimore                -1.00\n",
            "Boston                   -1.00\n",
            "Phoenix                  -0.99\n",
            "Calgary                  -0.99\n",
            "Vancouver                -0.99\n",
            "Edmonton                 -0.97\n",
            "Montreal                 -0.97\n",
            "Nashville                -0.97\n",
            "Atlanta                  -0.96\n",
            "San Pedro Garza Garcia   -0.94\n",
            "San Antonio              -0.91\n",
            "Scottsdale               -0.90\n",
            "Orlando                  -0.90\n",
            "Tampa                    -0.84\n",
            "Ciudad de Mexico         -0.81\n",
            "Naples                   -0.79\n",
            "Honolulu                 -0.75\n",
            "Name: 03_18, dtype: float64\n",
            "shutdown 28\n",
            "0.6511627906976745\n",
            "count    43.000000\n",
            "mean     -0.969302\n",
            "std       0.062503\n",
            "min      -1.000000\n",
            "25%      -1.000000\n",
            "50%      -1.000000\n",
            "75%      -0.970000\n",
            "max      -0.750000\n",
            "Name: 03_18, dtype: float64\n"
          ],
          "name": "stdout"
        }
      ]
    }
  ]
}